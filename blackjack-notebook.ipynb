{
 "cells": [
  {
   "cell_type": "markdown",
   "metadata": {},
   "source": [
    "<h1><center>Learning Blackjack with Q-Learning</center></h1>"
   ]
  },
  {
   "cell_type": "markdown",
   "metadata": {},
   "source": [
    "<img src=\"files/cards.jpg\">"
   ]
  },
  {
   "cell_type": "markdown",
   "metadata": {},
   "source": [
    "This notebook explores the game of Blackjack, and attempts by an agent to learn an optimal strategy to win (or minimize losses) over several hands. This was created with the goal to learn more about object oriented programing in python and Q-learning rather than an actual attempt to \"beat\" the game. A simplified version of the rules was used:"
   ]
  },
  {
   "cell_type": "markdown",
   "metadata": {},
   "source": [
    "<h3>The Rules</h3>\n",
    "\n",
    "1. The player is dealt 2 cards from an infinite deck. Since the deck is infinite, knowledge about the player's cards does not provide any knowledge about the dealer's cards or about the card that will be drawn next.\n",
    "\n",
    "2. The player then has the option to \"hit\" or \"stand\".  If the player chooses to hit, he is dealt another card.\n",
    "\n",
    "3. Step 2 is repeated until either the player chooses to stand, or the players hand value is greater than 21.\n",
    "\n",
    "4. If the players hand value is greater than 21, then he busts, the dealer wins, and the hand is over.\n",
    "\n",
    "5. If the players hand value is less than or equal to 21 then the dealer must make a turn.\n",
    "\n",
    "6. During the dealers hand, the dealer must continue to hit while his hand value is less than 17.  When the dealer's hand value is 17 or over, the dealer stands and the hand is over.\n",
    "\n",
    "7. If the dealer's hand value is over 21, the dealer busts, the player wins, and the hand is over.\n",
    "\n",
    "8. If neither player went bust during his turn, then whoever has the higher hand value wins. If the player and the dealer have the same hand value then the game is a draw."
   ]
  },
  {
   "cell_type": "markdown",
   "metadata": {},
   "source": [
    "<h3>Learning Algorithm</h3>\n",
    "\n",
    "The Agent uses a Q-learning algorithm in order to improve strategy. This is reinforcement learning algorithm where the Agent maintains a policy of game state and an expected value of taking steps starting from that point. Once trained, the Agent will always take the action with the highest value of the Q function at that state. To learn the Agent needs to find values of this function at each possible game and action. The values are initialized arbitralily (At 0 in this code) and each trial are updated according to formula:\n",
    "\n",
    "\\begin{equation*}\n",
    "Q_n(s_t, a_t) = Q_o(s_t, a_t) + \\alpha\\cdot(r + \\gamma\\cdot max_a(Q_t(s_{t+1}, a) - Q_t(s_t, a_t))\n",
    "\\end{equation*}\n",
    "\n",
    "In this equation:<br>\n",
    "$Q_n(s_t, a_t)$:&nbsp;Updated Q value at state and action taken<br>\n",
    "$Q_o(s_t, a_t)$:&nbsp;Previous Q value at state and action taken<br>\n",
    "$\\alpha$:&nbsp;&nbsp;&nbsp;&nbsp;&nbsp;&nbsp;&nbsp;&nbsp;&nbsp;&nbsp;&nbsp;&nbsp;&nbsp;&nbsp;&nbsp;Learning Rate, higher learning rates will cause bigger changes to each Q value<br>\n",
    "$\\gamma$:&nbsp;&nbsp;&nbsp;&nbsp;&nbsp;&nbsp;&nbsp;&nbsp;&nbsp;&nbsp;&nbsp;&nbsp;&nbsp;&nbsp;&nbsp;Discount Factor, how much future rewards/penalties are discounted from immediate rewards/penalties\n"
   ]
  },
  {
   "cell_type": "markdown",
   "metadata": {},
   "source": [
    "<h3>Code</h3>\n",
    "\n",
    "The code to implement the rules and train the agent are located in https://github.com/charlieaxle/blackjack-qlearn/blob/master/blackjack.py. Below provides a sample of the objects, their attributes and methods that were used to implement the Q-learning algorithm."
   ]
  },
  {
   "cell_type": "code",
   "execution_count": 1,
   "metadata": {
    "collapsed": true
   },
   "outputs": [],
   "source": [
    "import blackjack"
   ]
  },
  {
   "cell_type": "markdown",
   "metadata": {},
   "source": [
    "<h5>Card</h5>"
   ]
  },
  {
   "cell_type": "code",
   "execution_count": 2,
   "metadata": {},
   "outputs": [
    {
     "name": "stdout",
     "output_type": "stream",
     "text": [
      "Help on class Card in module blackjack:\n",
      "\n",
      "class Card(builtins.object)\n",
      " |  Card(card_type=None)\n",
      " |  \n",
      " |  Methods defined here:\n",
      " |  \n",
      " |  __init__(self, card_type=None)\n",
      " |      Initializes a new Card object\n",
      " |      \n",
      " |      Params:\n",
      " |          type (string): Type of card, i.e. \"7\" or \"A\". If None, random Card is selected.\n",
      " |      \n",
      " |      Object Attributes:\n",
      " |          type (string): The type of card, i.e. \"7\" or \"A\"\n",
      " |          value (string): The value of the card\n",
      " |  \n",
      " |  __str__(self)\n",
      " |      Return str(self).\n",
      " |  \n",
      " |  ----------------------------------------------------------------------\n",
      " |  Data descriptors defined here:\n",
      " |  \n",
      " |  __dict__\n",
      " |      dictionary for instance variables (if defined)\n",
      " |  \n",
      " |  __weakref__\n",
      " |      list of weak references to the object (if defined)\n",
      "\n"
     ]
    }
   ],
   "source": [
    "help(blackjack.Card)"
   ]
  },
  {
   "cell_type": "markdown",
   "metadata": {},
   "source": [
    "<h5>Hand</h5>"
   ]
  },
  {
   "cell_type": "code",
   "execution_count": 3,
   "metadata": {},
   "outputs": [
    {
     "name": "stdout",
     "output_type": "stream",
     "text": [
      "Help on class Hand in module blackjack:\n",
      "\n",
      "class Hand(builtins.object)\n",
      " |  Hand(initial_cards=0)\n",
      " |  \n",
      " |  Methods defined here:\n",
      " |  \n",
      " |  __init__(self, initial_cards=0)\n",
      " |      Initializes a new Hand object\n",
      " |      \n",
      " |      Object Attributes:\n",
      " |          cards (list): A list that may contain multiple Card objects\n",
      " |          score (int): The current value of the cards in the hand\n",
      " |          busted (boolean): True if hand is bust, otherwise False\n",
      " |  \n",
      " |  __str__(self)\n",
      " |      Return str(self).\n",
      " |  \n",
      " |  deal_card(self, num_cards=1)\n",
      " |      Used to add card(s) to Hand object\n",
      " |      \n",
      " |      Params:\n",
      " |          num_cards(int, default=1): Number of cards to add\n",
      " |      Returns:\n",
      " |          None\n",
      " |  \n",
      " |  get_score(self)\n",
      " |      Used to access the current score of a Hand object\n",
      " |      Params: None\n",
      " |      Returns: self.score\n",
      " |  \n",
      " |  possible_moves(self)\n",
      " |      Used to get possible moves available to a hand'\n",
      " |      \n",
      " |      Params:\n",
      " |          None\n",
      " |      Returns:\n",
      " |          List of possible moves. Currently always returns [\"hit\",\"stand\"]\n",
      " |  \n",
      " |  ----------------------------------------------------------------------\n",
      " |  Data descriptors defined here:\n",
      " |  \n",
      " |  __dict__\n",
      " |      dictionary for instance variables (if defined)\n",
      " |  \n",
      " |  __weakref__\n",
      " |      list of weak references to the object (if defined)\n",
      "\n"
     ]
    }
   ],
   "source": [
    "help(blackjack.Hand)"
   ]
  },
  {
   "cell_type": "code",
   "execution_count": 4,
   "metadata": {},
   "outputs": [
    {
     "name": "stdout",
     "output_type": "stream",
     "text": [
      "Help on class BlackjackGame in module blackjack:\n",
      "\n",
      "class BlackjackGame(builtins.object)\n",
      " |  Methods defined here:\n",
      " |  \n",
      " |  __init__(self)\n",
      " |      Initializes a new BlackjackGame object\n",
      " |      \n",
      " |              \n",
      " |      Attributes:\n",
      " |          turn (string): \"player\" or \"dealer\" depending on current turn\n",
      " |          winner (string): Winner of hand\n",
      " |          over (boolean): True if hand is over, otherwise False\n",
      " |          player_hand (Hand): Player's current hand\n",
      " |          dealer_hand (Hand): Dealer's current hand\n",
      " |          game_state (tuple): Tuple containing player hand value and dealer hand value\n",
      " |  \n",
      " |  dealer_move(self)\n",
      " |      Function that makes the dealer make one move. Dealer's move is restricted by rules\n",
      " |      \n",
      " |      Params:None\n",
      " |      Returns:None\n",
      " |  \n",
      " |  player_allowed_moves(self)\n",
      " |      Function to get moves availbe to player based on current hand\n",
      " |      \n",
      " |      Params:None\n",
      " |      Reutnrs: List of possible moves\n",
      " |  \n",
      " |  player_move(self, move)\n",
      " |      Allows player to make a move (\"hit\" or \"stand\")\n",
      " |      \n",
      " |      Params: \n",
      " |          move (string): Move made - currently only \"hit\" or \"stand\" allowed\n",
      " |      Returns:None\n",
      " |  \n",
      " |  update_game_state(self)\n",
      " |      Function to update the current game state - invoked after a player is dealt a card\n",
      " |      \n",
      " |      Params:None\n",
      " |      Returns:None\n",
      " |  \n",
      " |  ----------------------------------------------------------------------\n",
      " |  Data descriptors defined here:\n",
      " |  \n",
      " |  __dict__\n",
      " |      dictionary for instance variables (if defined)\n",
      " |  \n",
      " |  __weakref__\n",
      " |      list of weak references to the object (if defined)\n",
      "\n"
     ]
    }
   ],
   "source": [
    "help(blackjack.BlackjackGame)"
   ]
  },
  {
   "cell_type": "code",
   "execution_count": 5,
   "metadata": {},
   "outputs": [
    {
     "name": "stdout",
     "output_type": "stream",
     "text": [
      "Help on class Agent in module blackjack:\n",
      "\n",
      "class Agent(builtins.object)\n",
      " |  Agent(money=0, epsilon=0.1, learning_rate=0.5, discount=0.2)\n",
      " |  \n",
      " |  Methods defined here:\n",
      " |  \n",
      " |  __init__(self, money=0, epsilon=0.1, learning_rate=0.5, discount=0.2)\n",
      " |      Initializes a new Agent object\n",
      " |      \n",
      " |      Parameters:\n",
      " |          money (int, default=0): How much money Agent starts with\n",
      " |          epsilon (float, default=.1): Float between 0 and 1. Used for Epsilon-Greedy algorithm.\n",
      " |          learning_rate (float, default=.5): Learning rate in Q-learning algorithm\n",
      " |          discount (float, default=.2): Discount in Q-learning algorithm\n",
      " |      \n",
      " |      Object Attributes:\n",
      " |          money (int): Amount of money agent currently has\n",
      " |          epsilon, learning_rate, discount (float): As initialized. Will not change, unless reset\n",
      " |          Q (dictionary): Table of Q-values. Each entry in form: (game state): {\"hit\":Q-value, \"stand\":Q-value}\n",
      " |              *Q initialized for 0 Q-value for all possible states and actions\n",
      " |  \n",
      " |  get_best_move(self, game)\n",
      " |      Method for Agent to find the best move given current game state and self.Q\n",
      " |      \n",
      " |      Params:\n",
      " |          game (BlackjackGame()): An instance of a BlackjackGame\n",
      " |      Returns:None\n",
      " |  \n",
      " |  get_move(self, game)\n",
      " |      Method for Agent to pick a move.  Epsilon-Greedy choice based on current self.Q-learning\n",
      " |      \n",
      " |      Params:\n",
      " |          game (BlackjackGame()): An instance of a BlackjackGame\n",
      " |      Returns:None\n",
      " |  \n",
      " |  learn(self, num_hands)\n",
      " |      This method can be called to make the Agent \"learn\" Blackjack strategy over a number of hands.\n",
      " |      The Agent does not win or lose money during these rounds, just explores strategy.\n",
      " |      \n",
      " |      Params:\n",
      " |          num_hands (int): Number of hands to learn from\n",
      " |      Returns:None\n",
      " |  \n",
      " |  learn_from_hand(self)\n",
      " |      Method for Agent to play one Blackjack hand and update current strategy (self.Q)\n",
      " |      \n",
      " |      Params:None\n",
      " |      Returns:None\n",
      " |  \n",
      " |  play(self, num_hands)\n",
      " |      Method to make Agent play multiple hands. Agent will always choose move that is best according to self.Q\n",
      " |      \n",
      " |      Params:\n",
      " |          num_hands (int): Number of hands to play\n",
      " |      Returns:None\n",
      " |  \n",
      " |  play_optimal(self)\n",
      " |      Method to make Agent play a single hands. Agent will always choose move that is best according to self.Q\n",
      " |      \n",
      " |      Params:\n",
      " |          num_hands (int): Number of hands to play\n",
      " |      Returns: tuple containing (player score, dealer score, winner, and self.money)\n",
      " |  \n",
      " |  ----------------------------------------------------------------------\n",
      " |  Data descriptors defined here:\n",
      " |  \n",
      " |  __dict__\n",
      " |      dictionary for instance variables (if defined)\n",
      " |  \n",
      " |  __weakref__\n",
      " |      list of weak references to the object (if defined)\n",
      "\n"
     ]
    }
   ],
   "source": [
    "help(blackjack.Agent)"
   ]
  },
  {
   "cell_type": "markdown",
   "metadata": {},
   "source": [
    "<h3>Baseline Performance</h3>\n",
    "\n",
    "Before attempting to measure the performance of the Q-learning algorithm, we need to find a \"baseline\" to use for comparison. While we could use some basic strategy for this measurement (i.e. always hit when the player's hand is valued at 11 or less), the Agent's strategy did not include any of this prior information as the Q table is intiialized so that \"hit\" and \"stand\" have equal value for any given game state. If we let the Agent play before doing any learning, his strategy is to either \"hit\" or \"stand\" at random every turn."
   ]
  },
  {
   "cell_type": "code",
   "execution_count": 3,
   "metadata": {},
   "outputs": [
    {
     "data": {
      "text/plain": [
       "{'money_left': 5739, 'return_rate': -0.4261}"
      ]
     },
     "execution_count": 3,
     "metadata": {},
     "output_type": "execute_result"
    }
   ],
   "source": [
    "import random\n",
    "random.seed(1)\n",
    "\n",
    "#initialize agent with $10,000\n",
    "agent = blackjack.Agent(money=10000)\n",
    "\n",
    "#make agent play 10,000 hands\n",
    "agent.play(10000)"
   ]
  },
  {
   "cell_type": "markdown",
   "metadata": {},
   "source": [
    "We can see that after 10,000 hands, the Agent is down to $5,685 and has a overall return of ~ -43% of is initial money. As expected, this is a very poor performance"
   ]
  },
  {
   "cell_type": "markdown",
   "metadata": {},
   "source": [
    "<h3>Training the Agent</h3>\n",
    "\n",
    "First we run a quick experiment to confirm that the Q-learning algorithm helps the Agent improve his Blackjack strategy.  To do this we can plot the agents performance as a function of the number of hands he learns from."
   ]
  },
  {
   "cell_type": "code",
   "execution_count": 4,
   "metadata": {},
   "outputs": [],
   "source": [
    "learning_hands = []\n",
    "results = []\n",
    "random.seed(1)\n",
    "\n",
    "for i in range(0, 3000, 100):\n",
    "    #initialize a new Agent with $10000\n",
    "    agent = blackjack.Agent(money=10000)\n",
    "    \n",
    "    #train the Agent for \"i\" hands of Blackjack\n",
    "    agent.learn(num_hands = i)\n",
    "    res = agent.play(10000)\n",
    "    \n",
    "    #store results\n",
    "    learning_hands.append(i)\n",
    "    results.append(res['return_rate'])"
   ]
  },
  {
   "cell_type": "code",
   "execution_count": 5,
   "metadata": {},
   "outputs": [
    {
     "data": {
      "image/png": "[encoded data removed]",
      "text/plain": [
       "<matplotlib.figure.Figure at 0x1eb5405b828>"
      ]
     },
     "metadata": {},
     "output_type": "display_data"
    }
   ],
   "source": [
    "import matplotlib.pyplot as plt\n",
    "%matplotlib inline \n",
    "plt.plot(learning_hands, results, 'bD')\n",
    "plt.title(\"Return Rate vs. Number of Learning Hands\")\n",
    "plt.xlabel(\"Number of Learning Hands\")\n",
    "plt.ylabel(\"Return Rate after 10,000 Hands\")\n",
    "plt.show()"
   ]
  },
  {
   "cell_type": "markdown",
   "metadata": {},
   "source": [
    "The learning curve shows a signficiant increase in performance after the Agent is allowed to learn by playing more practice hands. As expected the rate of return remains negative, but increases sharply up to around 1000 learning hands and then begins to level off. It seems that performance is maximized after around 1500 learning hands at which point the Agent cannot improve his strategy anymore. After this point variations in perfromance are likely due to the random nature of Blackjack."
   ]
  },
  {
   "cell_type": "code",
   "execution_count": 32,
   "metadata": {},
   "outputs": [
    {
     "data": {
      "text/plain": [
       "array([0.1, 0.2, 0.3, 0.4, 0.5, 0.6, 0.7, 0.8, 0.9])"
      ]
     },
     "execution_count": 32,
     "metadata": {},
     "output_type": "execute_result"
    }
   ],
   "source": [
    "import numpy as np\n",
    "np.linspace(.1,.9,9)"
   ]
  },
  {
   "cell_type": "code",
   "execution_count": 10,
   "metadata": {
    "collapsed": true
   },
   "outputs": [],
   "source": [
    "import random\n",
    "learning_rate_results = {}\n",
    "\n",
    "\n",
    "for k in [.01,.99]:\n",
    "    learning_hands = []\n",
    "    results = []\n",
    "    random.seed(1)\n",
    "\n",
    "    for i in range(0, 500, 10):\n",
    "        #initialize a new Agent with $10000\n",
    "        agent = blackjack.Agent(money=10000, learning_rate=k)\n",
    "\n",
    "        #train the Agent for \"i\" hands of Blackjack\n",
    "        agent.learn(num_hands = i)\n",
    "        res = agent.play(10000)\n",
    "\n",
    "        #store results\n",
    "        learning_hands.append(i)\n",
    "        results.append(res['return_rate'])\n",
    "    learning_rate_results[k] = [learning_hands, results]"
   ]
  },
  {
   "cell_type": "code",
   "execution_count": 11,
   "metadata": {},
   "outputs": [
    {
     "data": {
      "image/png": "[encoded data removed]",
      "text/plain": [
       "<matplotlib.figure.Figure at 0x271bcf978d0>"
      ]
     },
     "metadata": {},
     "output_type": "display_data"
    }
   ],
   "source": [
    "plt.plot(learning_rate_results[.01][0], learning_rate_results[.01][1], 'bo')\n",
    "#plt.plot(learning_rate_results[.3][0], learning_rate_results[.3][1], 'ro')\n",
    "#plt.plot(learning_rate_results[.6][0], learning_rate_results[.6][1], 'go')\n",
    "plt.plot(learning_rate_results[.99][0], learning_rate_results[.99][1], 'mo')\n",
    "plt.title(\"Return Rate vs. Number of Learning Hands\")\n",
    "plt.xlabel(\"Number of Learning Hands\")\n",
    "plt.ylabel(\"Return Rate after 10,000 Hands\")\n",
    "plt.show()"
   ]
  }
 ],
 "metadata": {
  "kernelspec": {
   "display_name": "Python 3",
   "language": "python",
   "name": "python3"
  },
  "language_info": {
   "codemirror_mode": {
    "name": "ipython",
    "version": 3
   },
   "file_extension": ".py",
   "mimetype": "text/x-python",
   "name": "python",
   "nbconvert_exporter": "python",
   "pygments_lexer": "ipython3",
   "version": "3.6.3"
  }
 },
 "nbformat": 4,
 "nbformat_minor": 2
}
