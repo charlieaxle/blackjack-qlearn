{
 "cells": [
  {
   "cell_type": "code",
   "execution_count": 2,
   "metadata": {
    "collapsed": true
   },
   "outputs": [],
   "source": [
    "import random"
   ]
  },
  {
   "cell_type": "code",
   "execution_count": 3,
   "metadata": {
    "collapsed": true
   },
   "outputs": [],
   "source": [
    "cards = {'2':2,'3':3,'4':4,'5':5,'6':6,'7':7,'8':8,'9':9,'10':10,'J':10,'Q':10,'K':10,'A':11}"
   ]
  },
  {
   "cell_type": "code",
   "execution_count": 4,
   "metadata": {},
   "outputs": [
    {
     "data": {
      "text/plain": [
       "'A'"
      ]
     },
     "execution_count": 4,
     "metadata": {},
     "output_type": "execute_result"
    }
   ],
   "source": [
    "list(cards.keys())[12]"
   ]
  },
  {
   "cell_type": "code",
   "execution_count": 5,
   "metadata": {
    "collapsed": true
   },
   "outputs": [],
   "source": [
    "class RandomCard(object):\n",
    "    '''A single card which contains attributes card and card value'''\n",
    "    \n",
    "    def __init__(self):\n",
    "        self.card = list(cards.keys())[random.randint(0,len(list(cards.keys()))-1)]\n",
    "        self.val = cards[self.card]\n",
    "        \n",
    "    def __str__(self):\n",
    "        return str(self.card)+':'+str(self.val)"
   ]
  },
  {
   "cell_type": "code",
   "execution_count": 6,
   "metadata": {},
   "outputs": [
    {
     "ename": "NameError",
     "evalue": "name 'hand' is not defined",
     "output_type": "error",
     "traceback": [
      "\u001b[1;31m---------------------------------------------------------------------------\u001b[0m",
      "\u001b[1;31mNameError\u001b[0m                                 Traceback (most recent call last)",
      "\u001b[1;32m<ipython-input-6-29d40ff8de1a>\u001b[0m in \u001b[0;36m<module>\u001b[1;34m()\u001b[0m\n\u001b[1;32m----> 1\u001b[1;33m \u001b[0mprint\u001b[0m\u001b[1;33m(\u001b[0m\u001b[0mhand\u001b[0m\u001b[1;33m)\u001b[0m\u001b[1;33m\u001b[0m\u001b[0m\n\u001b[0m",
      "\u001b[1;31mNameError\u001b[0m: name 'hand' is not defined"
     ]
    }
   ],
   "source": [
    "print(hand)"
   ]
  },
  {
   "cell_type": "code",
   "execution_count": 7,
   "metadata": {},
   "outputs": [
    {
     "ename": "NameError",
     "evalue": "name 'hand' is not defined",
     "output_type": "error",
     "traceback": [
      "\u001b[1;31m---------------------------------------------------------------------------\u001b[0m",
      "\u001b[1;31mNameError\u001b[0m                                 Traceback (most recent call last)",
      "\u001b[1;32m<ipython-input-7-246e470116e2>\u001b[0m in \u001b[0;36m<module>\u001b[1;34m()\u001b[0m\n\u001b[1;32m----> 1\u001b[1;33m \u001b[0mhand\u001b[0m\u001b[1;33m.\u001b[0m\u001b[0madd_card\u001b[0m\u001b[1;33m(\u001b[0m\u001b[0mRandomCard\u001b[0m\u001b[1;33m(\u001b[0m\u001b[1;33m)\u001b[0m\u001b[1;33m)\u001b[0m\u001b[1;33m\u001b[0m\u001b[0m\n\u001b[0m",
      "\u001b[1;31mNameError\u001b[0m: name 'hand' is not defined"
     ]
    }
   ],
   "source": [
    "hand.add_card(RandomCard())"
   ]
  },
  {
   "cell_type": "code",
   "execution_count": 8,
   "metadata": {
    "collapsed": true
   },
   "outputs": [],
   "source": [
    "class Hand(object):\n",
    "    '''Class to contain multiple cards'''\n",
    "    \n",
    "    def __init__(self):\n",
    "        self.hand = []\n",
    "        \n",
    "    def add_card(self, card):\n",
    "        self.hand.append(card.card)\n",
    "        \n",
    "    def hand_value(self):\n",
    "        val = sum([cards[card] for card in self.hand])\n",
    "        if val > 21 and 'A' in self.hand:\n",
    "            val -= 10\n",
    "        return val\n",
    "        \n",
    "    def is_bust(self):\n",
    "        if self.hand_value() > 21:\n",
    "            return True\n",
    "        else:\n",
    "            return False\n",
    "    \n",
    "    def __str__(self):\n",
    "        return '-'.join(self.hand) + ':Score = ' + str(self.hand_value())"
   ]
  },
  {
   "cell_type": "code",
   "execution_count": 35,
   "metadata": {},
   "outputs": [],
   "source": [
    "class Game(object):\n",
    "    \n",
    "    def __init__(self):\n",
    "        self.dealer_hand = Hand()\n",
    "        self.player_hand = Hand()\n",
    "        \n",
    "        self.dealer_hand.add_card(RandomCard())\n",
    "        self.dealer_hand.add_card(RandomCard())\n",
    "        \n",
    "        self.player_hand.add_card(RandomCard())\n",
    "        self.player_hand.add_card(RandomCard())\n",
    "        \n",
    "        self.winner = None\n",
    "        \n",
    "        self.player_stand = False\n",
    "        \n",
    "        while not self.player_stand and not self.player_hand.is_bust():\n",
    "            print('\\n')\n",
    "            print('Dealer Shows: '+self.dealer_hand.hand[0])\n",
    "            print('Player Hand:')\n",
    "            print(self.player_hand)\n",
    "            move = input('Would you like to hit or stand? Enter \"h\" or \"s\"')\n",
    "            if move == 's':\n",
    "                self.player_stand = True\n",
    "            elif move == 'h':\n",
    "                self.player_hand.add_card(RandomCard())\n",
    "            else:\n",
    "                print('Please enter \"h\" or \"s\": ')\n",
    "        \n",
    "        if self.player_hand.is_bust():\n",
    "            print('Player busts :(')\n",
    "            self.winner = 'dealer'\n",
    "        \n",
    "        else:\n",
    "            self.dealer_play(self.dealer_hand)\n",
    "        \n",
    "        \n",
    "        \n",
    "        if self.winner == None:\n",
    "            if self.player_hand.hand_value() > self.dealer_hand.hand_value():\n",
    "                print('Player Wins!')\n",
    "                self.winner = 'player'\n",
    "            elif self.player_hand.hand_value() < self.dealer_hand.hand_value():\n",
    "                print('Dealer Wins!')\n",
    "                self.winner = 'dealer'\n",
    "            else:\n",
    "                print('It''s a draw')\n",
    "            \n",
    "    \n",
    "    def dealer_play(self, hand):\n",
    "        print('Dealer''s Hand is:', self.dealer_hand)\n",
    "        while hand.hand_value() < 17:\n",
    "            self.dealer_hand.add_card(RandomCard())\n",
    "            print('Dealer''s Hand is:', self.dealer_hand)\n",
    "        if self.dealer_hand.is_bust():\n",
    "            print('Dealer busts, player wins :)')\n",
    "            self.winner ='player'\n",
    "        \n",
    "        \n",
    "        "
   ]
  },
  {
   "cell_type": "code",
   "execution_count": 43,
   "metadata": {},
   "outputs": [
    {
     "name": "stdout",
     "output_type": "stream",
     "text": [
      "\n",
      "\n",
      "Dealer Shows: 5\n",
      "Player Hand:\n",
      "10-9:Score = 19\n",
      "Would you like to hit or stand? Enter \"h\" or \"s\"s\n",
      "Dealers Hand is: 5-4:Score = 9\n",
      "Dealers Hand is: 5-4-3:Score = 12\n",
      "Dealers Hand is: 5-4-3-4:Score = 16\n",
      "Dealers Hand is: 5-4-3-4-7:Score = 23\n",
      "Dealer busts, player wins :)\n"
     ]
    }
   ],
   "source": [
    "game = Game()"
   ]
  },
  {
   "cell_type": "code",
   "execution_count": 22,
   "metadata": {},
   "outputs": [
    {
     "name": "stdout",
     "output_type": "stream",
     "text": [
      "None\n"
     ]
    }
   ],
   "source": [
    "print(game.winner)"
   ]
  },
  {
   "cell_type": "code",
   "execution_count": 56,
   "metadata": {
    "collapsed": true
   },
   "outputs": [],
   "source": [
    "hand = BlackjackHand()"
   ]
  },
  {
   "cell_type": "code",
   "execution_count": 57,
   "metadata": {},
   "outputs": [
    {
     "data": {
      "text/plain": [
       "[9, 'K']"
      ]
     },
     "execution_count": 57,
     "metadata": {},
     "output_type": "execute_result"
    }
   ],
   "source": [
    "hand.get_dealer_hand()"
   ]
  },
  {
   "cell_type": "code",
   "execution_count": 58,
   "metadata": {},
   "outputs": [
    {
     "data": {
      "text/plain": [
       "[4, 8]"
      ]
     },
     "execution_count": 58,
     "metadata": {},
     "output_type": "execute_result"
    }
   ],
   "source": [
    "hand.get_player_hand()"
   ]
  },
  {
   "cell_type": "code",
   "execution_count": null,
   "metadata": {
    "collapsed": true
   },
   "outputs": [],
   "source": [
    "class BlackJackRound(object):\n",
    "    def __init__(self, num_rounds):\n",
    "        for i in range(num_rounds):\n",
    "            "
   ]
  }
 ],
 "metadata": {
  "kernelspec": {
   "display_name": "Python 3",
   "language": "python",
   "name": "python3"
  },
  "language_info": {
   "codemirror_mode": {
    "name": "ipython",
    "version": 3
   },
   "file_extension": ".py",
   "mimetype": "text/x-python",
   "name": "python",
   "nbconvert_exporter": "python",
   "pygments_lexer": "ipython3",
   "version": "3.6.3"
  }
 },
 "nbformat": 4,
 "nbformat_minor": 2
}
