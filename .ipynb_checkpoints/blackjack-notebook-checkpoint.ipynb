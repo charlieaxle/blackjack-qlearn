{
 "cells": [
  {
   "cell_type": "markdown",
   "metadata": {},
   "source": [
    "<h1>Learning Blackjack with Q-Learning</h1>"
   ]
  },
  {
   "cell_type": "markdown",
   "metadata": {},
   "source": [
    "<img src=\"files/cards.jpg\">"
   ]
  },
  {
   "cell_type": "markdown",
   "metadata": {},
   "source": [
    "This notebook explores the game of Blackjack, and attempts by an agent to learn an optimal strategy to win (or minimize losses) over several hands. This was created with the goal to learn more about object oriented programing in python and Q-learning rather than an actual attempt to \"beat\" the game. A simplified version of the rules was used:"
   ]
  },
  {
   "cell_type": "markdown",
   "metadata": {},
   "source": [
    "<h3>The Rules</h3>\n",
    "\n",
    "1. The player is dealt 2 cards from an infinite deck. Since the deck is infinite, knowledge about the player's cards does not provide any knowledge about the dealer's cards or about the card that will be drawn next.\n",
    "\n",
    "2. The player then has the option to \"hit\" or \"stand\".  If the player chooses to hit, he is dealt another card.\n",
    "\n",
    "3. Step 2 is repeated until either the player chooses to stand, or the players hand value is greater than 21.\n",
    "\n",
    "4. If the players hand value is greater than 21, then he busts, the dealer wins, and the hand is over.\n",
    "\n",
    "5. If the players hand value is less than or equal to 21 then the dealer must make a turn.\n",
    "\n",
    "6. During the dealers hand, the dealer must continue to hit while his hand value is less than 17.  When the dealer's hand value is 17 or over, the dealer stands and the hand is over.\n",
    "\n",
    "7. If the dealer's hand value is over 21, the dealer busts, the player wins, and the hand is over.\n",
    "\n",
    "8. If neither player went bust during his turn, then whoever has the higher hand value wins. If the player and the dealer have the same hand value then the game is a draw."
   ]
  },
  {
   "cell_type": "markdown",
   "metadata": {},
   "source": [
    "<h3>Code</h3>\n",
    "\n",
    "The code to implement the rules and train the agent are located in https://github.com/charlieaxle/blackjack-qlearn/blob/master/blackjack.py.  "
   ]
  },
  {
   "cell_type": "code",
   "execution_count": 1,
   "metadata": {},
   "outputs": [],
   "source": [
    "import blackjack"
   ]
  },
  {
   "cell_type": "markdown",
   "metadata": {},
   "source": [
    "<h5>RandomCard</h5>"
   ]
  },
  {
   "cell_type": "code",
   "execution_count": 2,
   "metadata": {},
   "outputs": [
    {
     "name": "stdout",
     "output_type": "stream",
     "text": [
      "Help on class Hand in module blackjack:\n",
      "\n",
      "class Hand(builtins.object)\n",
      " |  Methods defined here:\n",
      " |  \n",
      " |  __init__(self, initial_cards=0)\n",
      " |      Initializes a new Hand object\n",
      " |      \n",
      " |      Attributes:\n",
      " |          cards (list): A list that may contain multiple Card objects\n",
      " |          score (int): The current value of the cards in the hand\n",
      " |  \n",
      " |  __str__(self)\n",
      " |      Return str(self).\n",
      " |  \n",
      " |  deal_card(self, num_cards=1)\n",
      " |  \n",
      " |  get_score(self)\n",
      " |      Used to access the current score of a Hand object\n",
      " |      Params: None\n",
      " |      Returns: self.score\n",
      " |  \n",
      " |  is_bust(self)\n",
      " |  \n",
      " |  possible_moves(self)\n",
      " |  \n",
      " |  ----------------------------------------------------------------------\n",
      " |  Data descriptors defined here:\n",
      " |  \n",
      " |  __dict__\n",
      " |      dictionary for instance variables (if defined)\n",
      " |  \n",
      " |  __weakref__\n",
      " |      list of weak references to the object (if defined)\n",
      "\n"
     ]
    }
   ],
   "source": [
    "help(blackjack.Hand)"
   ]
  },
  {
   "cell_type": "markdown",
   "metadata": {},
   "source": [
    "<h5>Hand</h5>"
   ]
  },
  {
   "cell_type": "code",
   "execution_count": 3,
   "metadata": {},
   "outputs": [
    {
     "name": "stdout",
     "output_type": "stream",
     "text": [
      "\n",
      "    \n",
      "    An object that represents multiple cards\n",
      "    \n",
      "    Attributes:\n",
      "        cards (list): A list that may contain multiple Card objects\n",
      "        score (int): The current value of the cards in the hand\n",
      "        \n",
      "    Methods:\n",
      "        get_score(): Getter function to return score of hand\n",
      "        deal_card(num_cards = 1): Adds one or more Cards to hand\n",
      "            Params:\n",
      "                num_cards (int): Amount of cards to be added to hand\n",
      "        is_bust(): Returns True if hand is bust, otherwise returns false\n",
      "        possible_moves(): Returns an array of possible moves available\n",
      "    \n",
      "    \n"
     ]
    }
   ],
   "source": [
    "print(blackjack.Hand.__doc__)"
   ]
  }
 ],
 "metadata": {
  "kernelspec": {
   "display_name": "Python 3",
   "language": "python",
   "name": "python3"
  },
  "language_info": {
   "codemirror_mode": {
    "name": "ipython",
    "version": 3
   },
   "file_extension": ".py",
   "mimetype": "text/x-python",
   "name": "python",
   "nbconvert_exporter": "python",
   "pygments_lexer": "ipython3",
   "version": "3.6.3"
  }
 },
 "nbformat": 4,
 "nbformat_minor": 2
}
